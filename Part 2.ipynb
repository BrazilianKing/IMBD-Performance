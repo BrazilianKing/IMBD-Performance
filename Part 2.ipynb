{
 "cells": [
  {
   "cell_type": "code",
   "execution_count": 1,
   "id": "145f12da",
   "metadata": {},
   "outputs": [
    {
     "data": {
      "text/plain": [
       "['.ipynb_checkpoints',\n",
       " 'title_akas.csv.gz',\n",
       " 'title_basics.csv.gz',\n",
       " 'title_ratings.csv.gz']"
      ]
     },
     "execution_count": 1,
     "metadata": {},
     "output_type": "execute_result"
    }
   ],
   "source": [
    "import os, time, json\n",
    "import tmdbsimple as tmdb\n",
    "from tqdm.notebook import tqdm_notebook\n",
    "FOLDER = \"Data/\"\n",
    "os.makedirs(FOLDER, exist_ok = True)\n",
    "os.listdir(FOLDER)"
   ]
  },
  {
   "cell_type": "code",
   "execution_count": 2,
   "id": "dea539c5",
   "metadata": {},
   "outputs": [
    {
     "data": {
      "text/plain": [
       "dict_keys(['api-key'])"
      ]
     },
     "execution_count": 2,
     "metadata": {},
     "output_type": "execute_result"
    }
   ],
   "source": [
    "with open('C:/Users/badbr/.secret/tmdb_api.json', 'r') as f:\n",
    "    login = json.load(f)\n",
    "    \n",
    "## Display the keys of the loaded dict\n",
    "login.keys()"
   ]
  },
  {
   "cell_type": "code",
   "execution_count": 3,
   "id": "92c1972f",
   "metadata": {},
   "outputs": [],
   "source": [
    "tmdb.API_KEY = login['api-key']"
   ]
  },
  {
   "cell_type": "code",
   "execution_count": 4,
   "id": "ab62de8a",
   "metadata": {},
   "outputs": [],
   "source": [
    "# load in the df from project part 1 as basics:\n",
    "import pandas as pd\n",
    "basics = pd.read_csv('Data/title_basics.csv.gz')"
   ]
  },
  {
   "cell_type": "code",
   "execution_count": 5,
   "id": "ace9c2dd",
   "metadata": {},
   "outputs": [],
   "source": [
    "# ## make a movie object using the .Movies function from tmdb\n",
    "# movie = tmdb.Movies(603)"
   ]
  },
  {
   "cell_type": "code",
   "execution_count": 6,
   "id": "f0f14578",
   "metadata": {},
   "outputs": [],
   "source": [
    "# ## movie objects have a .info dictionary \n",
    "# info = movie.info()"
   ]
  },
  {
   "cell_type": "code",
   "execution_count": 7,
   "id": "4a8eb24a",
   "metadata": {},
   "outputs": [],
   "source": [
    "# movie = tmdb.Movies('tt1361336')\n",
    "# info = movie.info()\n",
    "# info['budget']"
   ]
  },
  {
   "cell_type": "code",
   "execution_count": 8,
   "id": "3f153f42",
   "metadata": {},
   "outputs": [],
   "source": [
    "# response = movie.releases()"
   ]
  },
  {
   "cell_type": "code",
   "execution_count": 9,
   "id": "a2187c63",
   "metadata": {},
   "outputs": [],
   "source": [
    "# # example from package ReadMe\n",
    "# response = movie.releases()\n",
    "# for c in movie.countries:\n",
    "#     if c['iso_3166_1'] == 'US':\n",
    "#         print(c['certification'])"
   ]
  },
  {
   "cell_type": "code",
   "execution_count": 10,
   "id": "7c2730f3",
   "metadata": {},
   "outputs": [],
   "source": [
    "def get_movie_with_rating(movie_id):\n",
    "    # Get the movie object for the current id\n",
    "    movie = tmdb.Movies(movie_id)\n",
    "    # save the .info .releases dictionaries\n",
    "    movie_info = movie.info()\n",
    "    \n",
    "    releases = movie.releases()\n",
    "    # Loop through countries in releases\n",
    "    for c in releases['countries']:\n",
    "        # if the country abbreviation==US\n",
    "        if c['iso_3166_1' ] =='US':\n",
    "            ## save a \"certification\" key in the info dict with the certification\n",
    "            movie_info['certification'] = c['certification']\n",
    "    return movie_info"
   ]
  },
  {
   "cell_type": "code",
   "execution_count": 11,
   "id": "484cadff",
   "metadata": {},
   "outputs": [],
   "source": [
    "def write_json(new_data, filename): \n",
    "    \"\"\"Adapted from: https://www.geeksforgeeks.org/append-to-json-file-using-python/\"\"\"    \n",
    "    \n",
    "    with open(filename,'r+') as file:\n",
    "        # First we load existing data into a dict.\n",
    "        file_data = json.load(file)\n",
    "        ## Choose extend or append\n",
    "        if (type(new_data) == list) & (type(file_data) == list):\n",
    "            file_data.extend(new_data)\n",
    "        else:\n",
    "             file_data.append(new_data)\n",
    "        # Sets file's current position at offset.\n",
    "        file.seek(0)\n",
    "        # convert back to json.\n",
    "        json.dump(file_data, file)"
   ]
  },
  {
   "cell_type": "code",
   "execution_count": 12,
   "id": "9bbbb5a1",
   "metadata": {},
   "outputs": [],
   "source": [
    "YEARS_TO_GET = [2000,2001]"
   ]
  },
  {
   "cell_type": "code",
   "execution_count": 13,
   "id": "96fb6803",
   "metadata": {},
   "outputs": [],
   "source": [
    "errors = [ ]"
   ]
  },
  {
   "cell_type": "code",
   "execution_count": 14,
   "id": "28984727",
   "metadata": {},
   "outputs": [],
   "source": [
    "# # # Start of OUTER loop\n",
    "# for YEARS in tqdm_notebook(YEARS_TO_GET, desc='YEARS', position=0):\n",
    "    \n",
    "#     JSON_FILE = f'{FOLDER}tmdb_api_results_{YEARS}.json'\n",
    "    \n",
    "#     file_exists = os.path.isfile(JSON_FILE)\n",
    "    \n",
    "#     if file_exists == False:\n",
    "    \n",
    "#         with open(JSON_FILE, 'w') as f:\n",
    "#             json.dump([{'imdb_id':0}],f)\n",
    "        \n",
    "#     df = basics.loc[basics['startYear']==YEARS].copy()\n",
    "    \n",
    "#     movie_ids = df['tconst'].copy()\n",
    "\n",
    "#     previous_df = pd.read_json(JSON_FILE)\n",
    "    \n",
    "#     movie_ids_to_get = movie_ids[~movie_ids.isin(previous_df['imdb_id'])]\n",
    "\n",
    "#     # INNER Loop\n",
    "#     for movie_id in tqdm_notebook(movie_ids_to_get,\n",
    "#                                   desc = f'Movies from {YEARS}',\n",
    "#                                   position = 1,\n",
    "#                                   leave = True):\n",
    "#         try:\n",
    "#             # Retrieve then data for the movie id\n",
    "#             temp = get_movie_with_rating(movie_id)  \n",
    "#             # Append/extend results to existing file using a pre-made function\n",
    "#             write_json(temp,JSON_FILE)\n",
    "#             # Short 20 ms sleep to prevent overwhelming server\n",
    "#             time.sleep(0.02)\n",
    "\n",
    "#         except Exception as e:\n",
    "#             errors.append([movie_id, e])\n",
    "            \n",
    "#     final_year_df = pd.read_json(JSON_FILE)\n",
    "#     final_year_df.to_csv(f\"{FOLDER}final_tmdb_data_{YEARS}.csv.gz\",\n",
    "#                           compression=\"gzip\", index=False)\n",
    "\n",
    "# print(f\"- Total errors: {len(errors)}\")"
   ]
  },
  {
   "cell_type": "code",
   "execution_count": 15,
   "id": "9fbd7d8c",
   "metadata": {},
   "outputs": [
    {
     "data": {
      "application/vnd.jupyter.widget-view+json": {
       "model_id": "78e6ae39cbb74c2599e2135be22433d8",
       "version_major": 2,
       "version_minor": 0
      },
      "text/plain": [
       "YEARS:   0%|          | 0/2 [00:00<?, ?it/s]"
      ]
     },
     "metadata": {},
     "output_type": "display_data"
    },
    {
     "data": {
      "application/vnd.jupyter.widget-view+json": {
       "model_id": "1eef2120fff54d2f9dbefb72c0c377e1",
       "version_major": 2,
       "version_minor": 0
      },
      "text/plain": [
       "Movies from 2000:   0%|          | 0/1448 [00:00<?, ?it/s]"
      ]
     },
     "metadata": {},
     "output_type": "display_data"
    },
    {
     "data": {
      "application/vnd.jupyter.widget-view+json": {
       "model_id": "56b881a773d5418883142ac17b9f5ee8",
       "version_major": 2,
       "version_minor": 0
      },
      "text/plain": [
       "Movies from 2001:   0%|          | 0/1570 [00:00<?, ?it/s]"
      ]
     },
     "metadata": {},
     "output_type": "display_data"
    }
   ],
   "source": [
    "# Start of OUTER loop\n",
    "for YEAR in tqdm_notebook(YEARS_TO_GET,desc='YEARS',\n",
    "                          position=0):\n",
    "    #Defining the JSON file to store results for year\n",
    "    JSON_FILE = f'{FOLDER}tmdb_api_results_{YEAR}.json'\n",
    "\n",
    "    # Check if file exists\n",
    "    file_exists = os.path.isfile(JSON_FILE)\n",
    "\n",
    "\n",
    "    # If it does not exist: create it\n",
    "    if file_exists == False:\n",
    "    # save an empty dict with just \"imdb_id\" to the new json file.\n",
    "        with open(JSON_FILE,'w') as f:\n",
    "            json.dump([{'imdb_id':0}],f)\n",
    "\n",
    "\n",
    "\n",
    "    #Saving new year as the current df\n",
    "    df = basics.loc[ basics['startYear']==YEAR].copy()\n",
    "    # saving movie ids to list\n",
    "    movie_ids = df['tconst'].copy()#.to_list()\n",
    "\n",
    "\n",
    "    # Load existing data from json into a dataframe called \"previous_df\"\n",
    "    previous_df = pd.read_json(JSON_FILE)\n",
    "\n",
    "\n",
    "    # filter out any ids that are already in the JSON_FILE\n",
    "    movie_ids_to_get = movie_ids[~movie_ids.isin(previous_df['imdb_id'])]\n",
    "\n",
    "\n",
    "    #Get index and movie id from list\n",
    "    # INNER Loop\n",
    "    for movie_id in tqdm_notebook(movie_ids_to_get,\n",
    "                                  desc=f'Movies from {YEAR}',\n",
    "                                  position=1,\n",
    "                                  leave=True):\n",
    "        # Attempt to retrieve then data for the movie id\n",
    "        try:\n",
    "            temp = get_movie_with_rating(movie_id)  #This uses your pre-made function\n",
    "            # Append/extend results to existing file using a pre-made function\n",
    "            write_json(temp,JSON_FILE)\n",
    "            # Short 20 ms sleep to prevent overwhelming server\n",
    "            time.sleep(0.02)\n",
    "\n",
    "        # If it fails,  make a dict with just the id and None for certification.\n",
    "        except Exception as e:\n",
    "            errors.append([movie_id, e])\n",
    "\n",
    "\n",
    "    final_year_df = pd.read_json(JSON_FILE)\n",
    "    final_year_df.to_csv(f\"{FOLDER}final_tmdb_data_{YEAR}.csv.gz\", compression=\"gzip\", index=False)"
   ]
  },
  {
   "cell_type": "code",
   "execution_count": 16,
   "id": "07771294",
   "metadata": {},
   "outputs": [],
   "source": [
    "# # Start of OUTER loop\n",
    "# for YEARS in tqdm_notebook(YEARS_TO_GET, desc='YEARS', position=0):\n",
    "#     JSON_FILE = f'{FOLDER}tmdb_api_results_{YEARS}.json'\n",
    "#     file_exists = os.path.isfile(JSON_FILE)\n",
    "    \n",
    "#     if file_exists == False:\n",
    "    \n",
    "#         with open(JSON_FILE, 'w') as f:\n",
    "#             json.dump([{'imdb_id':0}],f)\n",
    "        \n",
    "#     df = basics.loc[basics['startYear']==YEARS].copy()\n",
    "    \n",
    "#     movie_ids = df['tconst'].copy()\n",
    "#     movie_ids\n",
    "\n",
    "#     previous_df = pd.read_json(JSON_FILE)\n",
    "#     previous_df\n",
    "    \n",
    "#     movie_ids_to_get = movie_ids[~movie_ids.isin(previous_df['imdb_id'])]\n",
    "\n",
    "#     # INNER Loop\n",
    "#     for movie_id in tqdm_notebook(movie_ids_to_get,\n",
    "#                                   desc=f'Movies from {YEARS}',\n",
    "#                                   position=1,\n",
    "#                                   leave=True):\n",
    "#         try:\n",
    "#             # Retrieve then data for the movie id\n",
    "#             temp = get_movie_with_rating(movie_id)  \n",
    "#             # Append/extend results to existing file using a pre-made function\n",
    "#             write_json(temp,JSON_FILE)\n",
    "#             # Short 20 ms sleep to prevent overwhelming server\n",
    "#             time.sleep(0.02)\n",
    "\n",
    "#         except Exception as e:\n",
    "#             continue\n",
    "#     final_year_df = pd.read_json(JSON_FILE)\n",
    "#     final_year_df.to_csv(f\"{FOLDER}final_tmdb_data_{YEARS}.csv.gz\",\n",
    "#                           compression=\"gzip\", index=False)"
   ]
  },
  {
   "cell_type": "code",
   "execution_count": 17,
   "id": "3fe38f49",
   "metadata": {},
   "outputs": [],
   "source": [
    "# def get_movie_with_rating(movie_id):\n",
    "    \n",
    "#     # get the movie object for the current id \n",
    "#     movie = tmdb.Movies(movie_id)\n",
    "    \n",
    "#     # save the .info .releases dict \n",
    "#     info = movie.info()\n",
    "    \n",
    "#     releases = movie.releases()\n",
    "    \n",
    "#     # loop through countries in releases\n",
    "#     for c in releases['countries']:\n",
    "        \n",
    "#         # if the country is abbre\n",
    "#         if c['iso_3166_1'] == 'US':\n",
    "            \n",
    "#             ## save a cert key in the info dict with cert\n",
    "#             info['certification'] = c['certification']\n",
    "#     return info"
   ]
  },
  {
   "cell_type": "code",
   "execution_count": 18,
   "id": "80b172ef",
   "metadata": {},
   "outputs": [],
   "source": [
    "# def write_json(new_data, filename):\n",
    "#     \"\"\"Appends a list of records (new_data) to a json file (filename). \n",
    "#     Adapted from: https://www.geeksforgeeks.org/append-to-json-file-using-python/\"\"\"\n",
    "    \n",
    "#     with open(filename, 'r+') as file:\n",
    "#         #1st we load existing data in dict\n",
    "#         file_data = json.load(file)\n",
    "#         if (type(new_data) == lsit) & (type(file_data) == list):\n",
    "#             file_data.extend(new_data)\n",
    "#         else:\n",
    "#             file_data.append(new_data)\n",
    "#         # set files current position at offset\n",
    "#         file.seek(0)\n",
    "#         # convert back to json\n",
    "#         json.dump(file_data, file)"
   ]
  }
 ],
 "metadata": {
  "kernelspec": {
   "display_name": "Python (dojo-env)",
   "language": "python",
   "name": "dojo-env"
  },
  "language_info": {
   "codemirror_mode": {
    "name": "ipython",
    "version": 3
   },
   "file_extension": ".py",
   "mimetype": "text/x-python",
   "name": "python",
   "nbconvert_exporter": "python",
   "pygments_lexer": "ipython3",
   "version": "3.9.15"
  },
  "toc": {
   "base_numbering": 1,
   "nav_menu": {},
   "number_sections": true,
   "sideBar": true,
   "skip_h1_title": false,
   "title_cell": "Table of Contents",
   "title_sidebar": "Contents",
   "toc_cell": false,
   "toc_position": {},
   "toc_section_display": true,
   "toc_window_display": false
  }
 },
 "nbformat": 4,
 "nbformat_minor": 5
}
