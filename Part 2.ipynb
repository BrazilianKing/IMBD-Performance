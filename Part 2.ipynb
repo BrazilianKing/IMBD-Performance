{
 "cells": [
  {
   "cell_type": "code",
   "execution_count": 1,
   "id": "145f12da",
   "metadata": {},
   "outputs": [
    {
     "data": {
      "text/plain": [
       "['.ipynb_checkpoints',\n",
       " 'title_akas.csv.gz',\n",
       " 'title_basics.csv.gz',\n",
       " 'title_ratings.csv.gz']"
      ]
     },
     "execution_count": 1,
     "metadata": {},
     "output_type": "execute_result"
    }
   ],
   "source": [
    "import os, time, json\n",
    "import tmdbsimple as tmdb\n",
    "from tqdm.notebook import tqdm_notebook\n",
    "FOLDER = \"Data/\"\n",
    "os.makedirs(FOLDER, exist_ok = True)\n",
    "os.listdir(FOLDER)"
   ]
  },
  {
   "cell_type": "code",
   "execution_count": 2,
   "id": "dea539c5",
   "metadata": {},
   "outputs": [
    {
     "data": {
      "text/plain": [
       "dict_keys(['api-key'])"
      ]
     },
     "execution_count": 2,
     "metadata": {},
     "output_type": "execute_result"
    }
   ],
   "source": [
    "with open('C:/Users/badbr/.secret/tmdb_api.json', 'r') as f:\n",
    "    login = json.load(f)\n",
    "    \n",
    "## Display the keys of the loaded dict\n",
    "login.keys()"
   ]
  },
  {
   "cell_type": "code",
   "execution_count": 3,
   "id": "92c1972f",
   "metadata": {},
   "outputs": [],
   "source": [
    "tmdb.API_KEY = login['api-key']"
   ]
  },
  {
   "cell_type": "code",
   "execution_count": 4,
   "id": "ace9c2dd",
   "metadata": {},
   "outputs": [],
   "source": [
    "## make a movie object using the .Movies function from tmdb\n",
    "movie = tmdb.Movies(603)"
   ]
  },
  {
   "cell_type": "code",
   "execution_count": 5,
   "id": "f0f14578",
   "metadata": {},
   "outputs": [
    {
     "data": {
      "text/plain": [
       "{'adult': False,\n",
       " 'backdrop_path': '/l4QHerTSbMI7qgvasqxP36pqjN6.jpg',\n",
       " 'belongs_to_collection': {'id': 2344,\n",
       "  'name': 'The Matrix Collection',\n",
       "  'poster_path': '/bV9qTVHTVf0gkW0j7p7M0ILD4pG.jpg',\n",
       "  'backdrop_path': '/bRm2DEgUiYciDw3myHuYFInD7la.jpg'},\n",
       " 'budget': 63000000,\n",
       " 'genres': [{'id': 28, 'name': 'Action'},\n",
       "  {'id': 878, 'name': 'Science Fiction'}],\n",
       " 'homepage': 'http://www.warnerbros.com/matrix',\n",
       " 'id': 603,\n",
       " 'imdb_id': 'tt0133093',\n",
       " 'original_language': 'en',\n",
       " 'original_title': 'The Matrix',\n",
       " 'overview': 'Set in the 22nd century, The Matrix tells the story of a computer hacker who joins a group of underground insurgents fighting the vast and powerful computers who now rule the earth.',\n",
       " 'popularity': 67.822,\n",
       " 'poster_path': '/f89U3ADr1oiB1s9GkdPOEpXUk5H.jpg',\n",
       " 'production_companies': [{'id': 79,\n",
       "   'logo_path': '/tpFpsqbleCzEE2p5EgvUq6ozfCA.png',\n",
       "   'name': 'Village Roadshow Pictures',\n",
       "   'origin_country': 'US'},\n",
       "  {'id': 372,\n",
       "   'logo_path': None,\n",
       "   'name': 'Groucho II Film Partnership',\n",
       "   'origin_country': ''},\n",
       "  {'id': 1885,\n",
       "   'logo_path': '/tXMFoE8AtNdnFzWOW0aCLwl7xxS.png',\n",
       "   'name': 'Silver Pictures',\n",
       "   'origin_country': 'US'},\n",
       "  {'id': 174,\n",
       "   'logo_path': '/IuAlhI9eVC9Z8UQWOIDdWRKSEJ.png',\n",
       "   'name': 'Warner Bros. Pictures',\n",
       "   'origin_country': 'US'}],\n",
       " 'production_countries': [{'iso_3166_1': 'US',\n",
       "   'name': 'United States of America'}],\n",
       " 'release_date': '1999-03-30',\n",
       " 'revenue': 463517383,\n",
       " 'runtime': 136,\n",
       " 'spoken_languages': [{'english_name': 'English',\n",
       "   'iso_639_1': 'en',\n",
       "   'name': 'English'}],\n",
       " 'status': 'Released',\n",
       " 'tagline': 'Welcome to the Real World.',\n",
       " 'title': 'The Matrix',\n",
       " 'video': False,\n",
       " 'vote_average': 8.2,\n",
       " 'vote_count': 23140}"
      ]
     },
     "execution_count": 5,
     "metadata": {},
     "output_type": "execute_result"
    }
   ],
   "source": [
    "## movie objects have a .info dictionary \n",
    "info = movie.info()\n",
    "info"
   ]
  },
  {
   "cell_type": "code",
   "execution_count": 6,
   "id": "4a8eb24a",
   "metadata": {},
   "outputs": [
    {
     "data": {
      "text/plain": [
       "50000000"
      ]
     },
     "execution_count": 6,
     "metadata": {},
     "output_type": "execute_result"
    }
   ],
   "source": [
    "movie = tmdb.Movies('tt1361336')\n",
    "info = movie.info()\n",
    "info['budget']"
   ]
  },
  {
   "cell_type": "code",
   "execution_count": 7,
   "id": "3f153f42",
   "metadata": {},
   "outputs": [
    {
     "data": {
      "text/plain": [
       "{'id': 587807,\n",
       " 'countries': [{'certification': '',\n",
       "   'descriptors': [],\n",
       "   'iso_3166_1': 'CO',\n",
       "   'primary': False,\n",
       "   'release_date': '2021-02-12'},\n",
       "  {'certification': 'PG',\n",
       "   'descriptors': [],\n",
       "   'iso_3166_1': 'US',\n",
       "   'primary': False,\n",
       "   'release_date': '2021-02-26'},\n",
       "  {'certification': 'ALL',\n",
       "   'descriptors': [],\n",
       "   'iso_3166_1': 'KR',\n",
       "   'primary': False,\n",
       "   'release_date': '2021-02-24'},\n",
       "  {'certification': '',\n",
       "   'descriptors': [],\n",
       "   'iso_3166_1': 'ID',\n",
       "   'primary': False,\n",
       "   'release_date': '2021-03-10'},\n",
       "  {'certification': '6',\n",
       "   'descriptors': [],\n",
       "   'iso_3166_1': 'NL',\n",
       "   'primary': False,\n",
       "   'release_date': '2021-06-09'},\n",
       "  {'certification': 'G',\n",
       "   'descriptors': [],\n",
       "   'iso_3166_1': 'IE',\n",
       "   'primary': False,\n",
       "   'release_date': '2021-05-07'},\n",
       "  {'certification': 'M/6',\n",
       "   'descriptors': [],\n",
       "   'iso_3166_1': 'PT',\n",
       "   'primary': False,\n",
       "   'release_date': '2021-03-04'},\n",
       "  {'certification': '6+',\n",
       "   'descriptors': [],\n",
       "   'iso_3166_1': 'RU',\n",
       "   'primary': False,\n",
       "   'release_date': '2021-02-25'},\n",
       "  {'certification': 'L',\n",
       "   'descriptors': [],\n",
       "   'iso_3166_1': 'BR',\n",
       "   'primary': False,\n",
       "   'release_date': '2021-02-11'},\n",
       "  {'certification': '7',\n",
       "   'descriptors': [],\n",
       "   'iso_3166_1': 'DK',\n",
       "   'primary': False,\n",
       "   'release_date': '2021-02-11'},\n",
       "  {'certification': 'G',\n",
       "   'descriptors': [],\n",
       "   'iso_3166_1': 'AU',\n",
       "   'primary': False,\n",
       "   'release_date': '2021-04-01'},\n",
       "  {'certification': '',\n",
       "   'descriptors': [],\n",
       "   'iso_3166_1': 'HK',\n",
       "   'primary': False,\n",
       "   'release_date': '2021-03-11'},\n",
       "  {'certification': 'U',\n",
       "   'descriptors': [],\n",
       "   'iso_3166_1': 'FR',\n",
       "   'primary': False,\n",
       "   'release_date': '2021-05-19'},\n",
       "  {'certification': 'Btl',\n",
       "   'descriptors': [],\n",
       "   'iso_3166_1': 'SE',\n",
       "   'primary': False,\n",
       "   'release_date': '2021-05-28'},\n",
       "  {'certification': '0',\n",
       "   'descriptors': [],\n",
       "   'iso_3166_1': 'DE',\n",
       "   'primary': False,\n",
       "   'release_date': '2021-06-17'},\n",
       "  {'certification': '',\n",
       "   'descriptors': [],\n",
       "   'iso_3166_1': 'CZ',\n",
       "   'primary': False,\n",
       "   'release_date': '2021-06-10'},\n",
       "  {'certification': 'U',\n",
       "   'descriptors': [],\n",
       "   'iso_3166_1': 'SK',\n",
       "   'primary': False,\n",
       "   'release_date': '2021-05-27'},\n",
       "  {'certification': 'V',\n",
       "   'descriptors': [],\n",
       "   'iso_3166_1': 'LT',\n",
       "   'primary': False,\n",
       "   'release_date': '2021-05-07'},\n",
       "  {'certification': '6',\n",
       "   'descriptors': [],\n",
       "   'iso_3166_1': 'HU',\n",
       "   'primary': False,\n",
       "   'release_date': '2021-05-20'},\n",
       "  {'certification': '',\n",
       "   'descriptors': [],\n",
       "   'iso_3166_1': 'PL',\n",
       "   'primary': False,\n",
       "   'release_date': '2021-06-11'},\n",
       "  {'certification': '7',\n",
       "   'descriptors': [],\n",
       "   'iso_3166_1': 'ES',\n",
       "   'primary': False,\n",
       "   'release_date': '2021-03-26'},\n",
       "  {'certification': 'PG',\n",
       "   'descriptors': [],\n",
       "   'iso_3166_1': 'SG',\n",
       "   'primary': False,\n",
       "   'release_date': '2021-02-11'},\n",
       "  {'certification': 'Κ',\n",
       "   'descriptors': [],\n",
       "   'iso_3166_1': 'GR',\n",
       "   'primary': False,\n",
       "   'release_date': '2021-06-10'},\n",
       "  {'certification': '普遍級',\n",
       "   'descriptors': [],\n",
       "   'iso_3166_1': 'TW',\n",
       "   'primary': False,\n",
       "   'release_date': '2021-02-10'},\n",
       "  {'certification': 'PG',\n",
       "   'descriptors': [],\n",
       "   'iso_3166_1': 'US',\n",
       "   'primary': False,\n",
       "   'release_date': '2021-02-26'},\n",
       "  {'certification': 'PG',\n",
       "   'descriptors': [],\n",
       "   'iso_3166_1': 'GB',\n",
       "   'primary': False,\n",
       "   'release_date': '2021-03-25'},\n",
       "  {'certification': 'G',\n",
       "   'descriptors': [],\n",
       "   'iso_3166_1': 'AU',\n",
       "   'primary': False,\n",
       "   'release_date': '2021-06-01'},\n",
       "  {'certification': 'G',\n",
       "   'descriptors': [],\n",
       "   'iso_3166_1': 'NZ',\n",
       "   'primary': False,\n",
       "   'release_date': '2021-06-01'},\n",
       "  {'certification': 'U',\n",
       "   'descriptors': [],\n",
       "   'iso_3166_1': 'FR',\n",
       "   'primary': False,\n",
       "   'release_date': '2021-09-16'},\n",
       "  {'certification': 'U',\n",
       "   'descriptors': [],\n",
       "   'iso_3166_1': 'FR',\n",
       "   'primary': False,\n",
       "   'release_date': '2022-02-16'},\n",
       "  {'certification': 'PG',\n",
       "   'descriptors': [],\n",
       "   'iso_3166_1': 'GB',\n",
       "   'primary': False,\n",
       "   'release_date': '2021-05-24'},\n",
       "  {'certification': 'G',\n",
       "   'descriptors': [],\n",
       "   'iso_3166_1': 'AU',\n",
       "   'primary': False,\n",
       "   'release_date': '2021-06-21'},\n",
       "  {'certification': 'PG',\n",
       "   'descriptors': [],\n",
       "   'iso_3166_1': 'US',\n",
       "   'primary': False,\n",
       "   'release_date': '2021-05-18'},\n",
       "  {'certification': 'U',\n",
       "   'descriptors': [],\n",
       "   'iso_3166_1': 'FR',\n",
       "   'primary': False,\n",
       "   'release_date': '2021-09-22'},\n",
       "  {'certification': '',\n",
       "   'descriptors': [],\n",
       "   'iso_3166_1': 'GR',\n",
       "   'primary': False,\n",
       "   'release_date': '2021-09-23'},\n",
       "  {'certification': '',\n",
       "   'descriptors': [],\n",
       "   'iso_3166_1': 'CA',\n",
       "   'primary': False,\n",
       "   'release_date': '2021-07-31'}]}"
      ]
     },
     "execution_count": 7,
     "metadata": {},
     "output_type": "execute_result"
    }
   ],
   "source": [
    "response = movie.releases()\n",
    "response"
   ]
  },
  {
   "cell_type": "code",
   "execution_count": 8,
   "id": "a2187c63",
   "metadata": {},
   "outputs": [
    {
     "name": "stdout",
     "output_type": "stream",
     "text": [
      "PG\n",
      "PG\n",
      "PG\n"
     ]
    }
   ],
   "source": [
    "# example from package ReadMe\n",
    "response = movie.releases()\n",
    "for c in movie.countries:\n",
    "    if c['iso_3166_1'] == 'US':\n",
    "        print(c['certification'])"
   ]
  },
  {
   "cell_type": "code",
   "execution_count": 9,
   "id": "7c2730f3",
   "metadata": {},
   "outputs": [],
   "source": [
    "def get_movie_with_rating(movie_id):\n",
    "    \n",
    "    # get the movie object for the current id \n",
    "    movie = tmdb.Movies(movie_id)\n",
    "    \n",
    "    # save the .info .releases dict \n",
    "    info = movie.info()\n",
    "    \n",
    "    releases = movie.releases()\n",
    "    \n",
    "    # loop through countries in releases\n",
    "    for c in releases['countries']:\n",
    "        \n",
    "        # if the country is abbre\n",
    "        if c['iso_3166_1'] == 'US':\n",
    "            \n",
    "            ## save a cert key in the info dict with cert\n",
    "            info['certification'] = c['certification']\n",
    "    return info"
   ]
  },
  {
   "cell_type": "code",
   "execution_count": 10,
   "id": "484cadff",
   "metadata": {},
   "outputs": [],
   "source": [
    "def write_json(new_data, filename):\n",
    "    \"\"\"Appends a list of records (new_data) to a json file (filename). \n",
    "    Adapted from: https://www.geeksforgeeks.org/append-to-json-file-using-python/\"\"\"\n",
    "    \n",
    "    with opne(filename, 'r+') as file:\n",
    "        #1st we load existing data in dict\n",
    "        file_data = json.load(file)\n",
    "        if (type(new_data) == lsit) & (type(file_data) == list):\n",
    "            file_data.extend(new_data)\n",
    "        else:\n",
    "            file_data.append(new_data)\n",
    "        # set files current position at offset\n",
    "        file.seek(0)\n",
    "        # convert back to json\n",
    "        json.dump(file_data, file)"
   ]
  },
  {
   "cell_type": "code",
   "execution_count": 11,
   "id": "ab62de8a",
   "metadata": {},
   "outputs": [],
   "source": [
    "# load in the df from project part 1 as basics:\n",
    "import pandas as pd\n",
    "basics = pd.read_csv('Data/title_basics.csv.gz')"
   ]
  },
  {
   "cell_type": "code",
   "execution_count": 12,
   "id": "9bbbb5a1",
   "metadata": {},
   "outputs": [],
   "source": [
    "YEARS_TO_GET = [2000,2001]"
   ]
  },
  {
   "cell_type": "code",
   "execution_count": 13,
   "id": "96fb6803",
   "metadata": {},
   "outputs": [],
   "source": [
    "errors = [ ]"
   ]
  },
  {
   "cell_type": "code",
   "execution_count": 14,
   "id": "28984727",
   "metadata": {},
   "outputs": [],
   "source": [
    "# # # Start of OUTER loop\n",
    "# for YEARS in tqdm_notebook(YEARS_TO_GET, desc='YEARS', position=0):\n",
    "    \n",
    "#     JSON_FILE = f'{FOLDER}tmdb_api_results_{YEARS}.json'\n",
    "    \n",
    "#     file_exists = os.path.isfile(JSON_FILE)\n",
    "    \n",
    "#     if file_exists == False:\n",
    "    \n",
    "#         with open(JSON_FILE, 'w') as f:\n",
    "#             json.dump([{'imdb_id':0}],f)\n",
    "        \n",
    "#     df = basics.loc[basics['startYear']==YEARS].copy()\n",
    "    \n",
    "#     movie_ids = df['tconst'].copy()\n",
    "\n",
    "#     previous_df = pd.read_json(JSON_FILE)\n",
    "    \n",
    "#     movie_ids_to_get = movie_ids[~movie_ids.isin(previous_df['imdb_id'])]\n",
    "\n",
    "#     # INNER Loop\n",
    "#     for movie_id in tqdm_notebook(movie_ids_to_get,\n",
    "#                                   desc = f'Movies from {YEARS}',\n",
    "#                                   position = 1,\n",
    "#                                   leave = True):\n",
    "#         try:\n",
    "#             # Retrieve then data for the movie id\n",
    "#             temp = get_movie_with_rating(movie_id)  \n",
    "#             # Append/extend results to existing file using a pre-made function\n",
    "#             write_json(temp,JSON_FILE)\n",
    "#             # Short 20 ms sleep to prevent overwhelming server\n",
    "#             time.sleep(0.02)\n",
    "\n",
    "#         except Exception as e:\n",
    "#             errors.append([movie_id, e])\n",
    "            \n",
    "#     final_year_df = pd.read_json(JSON_FILE)\n",
    "#     final_year_df.to_csv(f\"{FOLDER}final_tmdb_data_{YEARS}.csv.gz\",\n",
    "#                           compression=\"gzip\", index=False)\n",
    "\n",
    "# print(f\"- Total errors: {len(errors)}\")"
   ]
  },
  {
   "cell_type": "code",
   "execution_count": 16,
   "id": "9fbd7d8c",
   "metadata": {},
   "outputs": [
    {
     "data": {
      "application/vnd.jupyter.widget-view+json": {
       "model_id": "471c7b176dcc4cbca8d494280d57aa53",
       "version_major": 2,
       "version_minor": 0
      },
      "text/plain": [
       "YEARS:   0%|          | 0/2 [00:00<?, ?it/s]"
      ]
     },
     "metadata": {},
     "output_type": "display_data"
    },
    {
     "data": {
      "application/vnd.jupyter.widget-view+json": {
       "model_id": "da701cc69e9f43a0a7042b7533804c8f",
       "version_major": 2,
       "version_minor": 0
      },
      "text/plain": [
       "Movies from 2000:   0%|          | 0/1448 [00:00<?, ?it/s]"
      ]
     },
     "metadata": {},
     "output_type": "display_data"
    },
    {
     "data": {
      "application/vnd.jupyter.widget-view+json": {
       "model_id": "215a5b9e8fc346b29b77c99ff707fce5",
       "version_major": 2,
       "version_minor": 0
      },
      "text/plain": [
       "Movies from 2001:   0%|          | 0/1569 [00:00<?, ?it/s]"
      ]
     },
     "metadata": {},
     "output_type": "display_data"
    }
   ],
   "source": [
    "# # Start of OUTER loop\n",
    "for YEARS in tqdm_notebook(YEARS_TO_GET, desc='YEARS', position=0):\n",
    "    JSON_FILE = f'{FOLDER}tmdb_api_results_{YEARS}.json'\n",
    "    file_exists = os.path.isfile(JSON_FILE)\n",
    "    \n",
    "    if file_exists == False:\n",
    "    \n",
    "        with open(JSON_FILE, 'w') as f:\n",
    "            json.dump([{'imdb_id':0}],f)\n",
    "        \n",
    "    df = basics.loc[basics['startYear']==YEARS].copy()\n",
    "    \n",
    "    movie_ids = df['tconst'].copy()\n",
    "    movie_ids\n",
    "\n",
    "    previous_df = pd.read_json(JSON_FILE)\n",
    "    previous_df\n",
    "    \n",
    "    movie_ids_to_get = movie_ids[~movie_ids.isin(previous_df['imdb_id'])]\n",
    "\n",
    "    # INNER Loop\n",
    "    for movie_id in tqdm_notebook(movie_ids_to_get,\n",
    "                                  desc=f'Movies from {YEARS}',\n",
    "                                  position=1,\n",
    "                                  leave=True):\n",
    "        try:\n",
    "            # Retrieve then data for the movie id\n",
    "            temp = get_movie_with_rating(movie_id)  \n",
    "            # Append/extend results to existing file using a pre-made function\n",
    "            write_json(temp,JSON_FILE)\n",
    "            # Short 20 ms sleep to prevent overwhelming server\n",
    "            time.sleep(0.02)\n",
    "\n",
    "        except Exception as e:\n",
    "            continue\n",
    "    final_year_df = pd.read_json(JSON_FILE)\n",
    "    final_year_df.to_csv(f\"{FOLDER}final_tmdb_data_{YEARS}.csv.gz\",\n",
    "                          compression=\"gzip\", index=False)"
   ]
  }
 ],
 "metadata": {
  "kernelspec": {
   "display_name": "Python (dojo-env)",
   "language": "python",
   "name": "dojo-env"
  },
  "language_info": {
   "codemirror_mode": {
    "name": "ipython",
    "version": 3
   },
   "file_extension": ".py",
   "mimetype": "text/x-python",
   "name": "python",
   "nbconvert_exporter": "python",
   "pygments_lexer": "ipython3",
   "version": "3.9.15"
  },
  "toc": {
   "base_numbering": 1,
   "nav_menu": {},
   "number_sections": true,
   "sideBar": true,
   "skip_h1_title": false,
   "title_cell": "Table of Contents",
   "title_sidebar": "Contents",
   "toc_cell": false,
   "toc_position": {},
   "toc_section_display": true,
   "toc_window_display": false
  }
 },
 "nbformat": 4,
 "nbformat_minor": 5
}
