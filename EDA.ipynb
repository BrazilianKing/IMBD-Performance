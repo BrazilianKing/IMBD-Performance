{
 "cells": [
  {
   "cell_type": "code",
   "execution_count": 1,
   "id": "4cac36b8",
   "metadata": {},
   "outputs": [],
   "source": [
    "## Pandas\n",
    "import pandas as pd\n",
    "## Numpy\n",
    "import numpy as np\n",
    "\n",
    "import json, os, time\n",
    "\n",
    "import tmdbsimple as tmdb\n",
    "\n",
    "from tqdm.notebook import tqdm_notebook\n",
    "\n",
    "import gzip"
   ]
  },
  {
   "cell_type": "code",
   "execution_count": 2,
   "id": "99354902",
   "metadata": {},
   "outputs": [],
   "source": [
    "# Files\n",
    "tmdb_2000 = pd.read_csv(\"Data/final_tmdb_data_2000.csv.gz\")\n",
    "tmdb_2001 = pd.read_csv(\"Data/final_tmdb_data_2000.csv.gz\")"
   ]
  },
  {
   "cell_type": "code",
   "execution_count": 3,
   "id": "3b2506d1",
   "metadata": {},
   "outputs": [],
   "source": [
    "# Combine\n",
    "\n",
    "Files = [tmdb_2000, tmdb_2001]\n",
    "\n",
    "combined = pd.concat(Files)"
   ]
  },
  {
   "cell_type": "code",
   "execution_count": 5,
   "id": "a6ac2b12",
   "metadata": {},
   "outputs": [
    {
     "name": "stdout",
     "output_type": "stream",
     "text": [
      "<class 'pandas.core.frame.DataFrame'>\n",
      "Int64Index: 2 entries, 0 to 0\n",
      "Data columns (total 1 columns):\n",
      " #   Column   Non-Null Count  Dtype\n",
      "---  ------   --------------  -----\n",
      " 0   imdb_id  2 non-null      int64\n",
      "dtypes: int64(1)\n",
      "memory usage: 32.0 bytes\n"
     ]
    }
   ],
   "source": [
    "combined.info()"
   ]
  },
  {
   "cell_type": "code",
   "execution_count": 6,
   "id": "0c98870b",
   "metadata": {},
   "outputs": [
    {
     "data": {
      "text/plain": [
       "1"
      ]
     },
     "execution_count": 6,
     "metadata": {},
     "output_type": "execute_result"
    }
   ],
   "source": [
    "# checking for duplicates\n",
    "combined.duplicated().sum()"
   ]
  },
  {
   "cell_type": "code",
   "execution_count": null,
   "id": "06dba2e5",
   "metadata": {},
   "outputs": [],
   "source": []
  }
 ],
 "metadata": {
  "kernelspec": {
   "display_name": "Python (dojo-env)",
   "language": "python",
   "name": "dojo-env"
  },
  "language_info": {
   "codemirror_mode": {
    "name": "ipython",
    "version": 3
   },
   "file_extension": ".py",
   "mimetype": "text/x-python",
   "name": "python",
   "nbconvert_exporter": "python",
   "pygments_lexer": "ipython3",
   "version": "3.9.15"
  },
  "toc": {
   "base_numbering": 1,
   "nav_menu": {},
   "number_sections": true,
   "sideBar": true,
   "skip_h1_title": false,
   "title_cell": "Table of Contents",
   "title_sidebar": "Contents",
   "toc_cell": false,
   "toc_position": {},
   "toc_section_display": true,
   "toc_window_display": false
  }
 },
 "nbformat": 4,
 "nbformat_minor": 5
}
