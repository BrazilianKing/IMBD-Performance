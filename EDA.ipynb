{
 "cells": [
  {
   "cell_type": "code",
   "execution_count": 1,
   "id": "4cac36b8",
   "metadata": {},
   "outputs": [],
   "source": [
    "## Pandas\n",
    "import pandas as pd\n",
    "## Numpy\n",
    "import numpy as np\n",
    "\n",
    "import json, os, time\n",
    "\n",
    "import tmdbsimple as tmdb\n",
    "\n",
    "from tqdm.notebook import tqdm_notebook\n",
    "\n",
    "import gzip"
   ]
  },
  {
   "cell_type": "code",
   "execution_count": 2,
   "id": "99354902",
   "metadata": {},
   "outputs": [],
   "source": [
    "# Files\n",
    "tmdb_2000 = pd.read_csv(\"Data/final_tmdb_data_2000.csv.gz\")\n",
    "tmdb_2001 = pd.read_csv(\"Data/final_tmdb_data_2001.csv.gz\")"
   ]
  },
  {
   "cell_type": "code",
   "execution_count": 3,
   "id": "3b2506d1",
   "metadata": {},
   "outputs": [],
   "source": [
    "# Combine\n",
    "\n",
    "Files = [tmdb_2000, tmdb_2001]\n",
    "\n",
    "combined = pd.concat(Files)"
   ]
  },
  {
   "cell_type": "code",
   "execution_count": 4,
   "id": "a6ac2b12",
   "metadata": {},
   "outputs": [
    {
     "name": "stdout",
     "output_type": "stream",
     "text": [
      "<class 'pandas.core.frame.DataFrame'>\n",
      "Int64Index: 2568 entries, 0 to 1330\n",
      "Data columns (total 26 columns):\n",
      " #   Column                 Non-Null Count  Dtype  \n",
      "---  ------                 --------------  -----  \n",
      " 0   imdb_id                2568 non-null   object \n",
      " 1   adult                  2566 non-null   float64\n",
      " 2   backdrop_path          1397 non-null   object \n",
      " 3   belongs_to_collection  205 non-null    object \n",
      " 4   budget                 2566 non-null   float64\n",
      " 5   genres                 2566 non-null   object \n",
      " 6   homepage               173 non-null    object \n",
      " 7   id                     2566 non-null   float64\n",
      " 8   original_language      2566 non-null   object \n",
      " 9   original_title         2566 non-null   object \n",
      " 10  overview               2516 non-null   object \n",
      " 11  popularity             2566 non-null   float64\n",
      " 12  poster_path            2308 non-null   object \n",
      " 13  production_companies   2566 non-null   object \n",
      " 14  production_countries   2566 non-null   object \n",
      " 15  release_date           2547 non-null   object \n",
      " 16  revenue                2566 non-null   float64\n",
      " 17  runtime                2566 non-null   float64\n",
      " 18  spoken_languages       2566 non-null   object \n",
      " 19  status                 2566 non-null   object \n",
      " 20  tagline                1100 non-null   object \n",
      " 21  title                  2566 non-null   object \n",
      " 22  video                  2566 non-null   float64\n",
      " 23  vote_average           2566 non-null   float64\n",
      " 24  vote_count             2566 non-null   float64\n",
      " 25  certification          816 non-null    object \n",
      "dtypes: float64(9), object(17)\n",
      "memory usage: 541.7+ KB\n"
     ]
    }
   ],
   "source": [
    "combined.info()"
   ]
  },
  {
   "cell_type": "code",
   "execution_count": 5,
   "id": "0c98870b",
   "metadata": {},
   "outputs": [
    {
     "data": {
      "text/plain": [
       "1"
      ]
     },
     "execution_count": 5,
     "metadata": {},
     "output_type": "execute_result"
    }
   ],
   "source": [
    "# checking for duplicates\n",
    "combined.duplicated().sum()"
   ]
  },
  {
   "cell_type": "code",
   "execution_count": 6,
   "id": "06dba2e5",
   "metadata": {},
   "outputs": [
    {
     "data": {
      "text/plain": [
       "0"
      ]
     },
     "execution_count": 6,
     "metadata": {},
     "output_type": "execute_result"
    }
   ],
   "source": [
    "# Drop duplicates\n",
    "\n",
    "combined = combined.drop_duplicates()\n",
    "combined.duplicated().sum()"
   ]
  },
  {
   "cell_type": "code",
   "execution_count": 7,
   "id": "8b3be3fe",
   "metadata": {},
   "outputs": [
    {
     "data": {
      "text/plain": [
       "False    1930\n",
       "True      637\n",
       "dtype: int64"
      ]
     },
     "execution_count": 7,
     "metadata": {},
     "output_type": "execute_result"
    }
   ],
   "source": [
    "# Budget and Revenue filter\n",
    "\n",
    "financials_filtered = (combined['budget'] > 0) | (combined['revenue']>0)\n",
    "\n",
    "financials_filtered.value_counts()"
   ]
  },
  {
   "cell_type": "code",
   "execution_count": 8,
   "id": "6cdd860a",
   "metadata": {},
   "outputs": [],
   "source": [
    "combined = combined[financials_filtered]"
   ]
  },
  {
   "cell_type": "markdown",
   "id": "7db4079e",
   "metadata": {},
   "source": [
    "## How many movies had at least some valid financial information?"
   ]
  },
  {
   "cell_type": "code",
   "execution_count": 9,
   "id": "b821590f",
   "metadata": {},
   "outputs": [
    {
     "name": "stdout",
     "output_type": "stream",
     "text": [
      "<class 'pandas.core.frame.DataFrame'>\n",
      "Int64Index: 637 entries, 1 to 1309\n",
      "Data columns (total 26 columns):\n",
      " #   Column                 Non-Null Count  Dtype  \n",
      "---  ------                 --------------  -----  \n",
      " 0   imdb_id                637 non-null    object \n",
      " 1   adult                  637 non-null    float64\n",
      " 2   backdrop_path          540 non-null    object \n",
      " 3   belongs_to_collection  109 non-null    object \n",
      " 4   budget                 637 non-null    float64\n",
      " 5   genres                 637 non-null    object \n",
      " 6   homepage               76 non-null     object \n",
      " 7   id                     637 non-null    float64\n",
      " 8   original_language      637 non-null    object \n",
      " 9   original_title         637 non-null    object \n",
      " 10  overview               635 non-null    object \n",
      " 11  popularity             637 non-null    float64\n",
      " 12  poster_path            618 non-null    object \n",
      " 13  production_companies   637 non-null    object \n",
      " 14  production_countries   637 non-null    object \n",
      " 15  release_date           636 non-null    object \n",
      " 16  revenue                637 non-null    float64\n",
      " 17  runtime                637 non-null    float64\n",
      " 18  spoken_languages       637 non-null    object \n",
      " 19  status                 637 non-null    object \n",
      " 20  tagline                498 non-null    object \n",
      " 21  title                  637 non-null    object \n",
      " 22  video                  637 non-null    float64\n",
      " 23  vote_average           637 non-null    float64\n",
      " 24  vote_count             637 non-null    float64\n",
      " 25  certification          430 non-null    object \n",
      "dtypes: float64(9), object(17)\n",
      "memory usage: 134.4+ KB\n"
     ]
    }
   ],
   "source": [
    "combined.info()"
   ]
  },
  {
   "cell_type": "markdown",
   "id": "20e55383",
   "metadata": {},
   "source": [
    "At least 637 movies had at least some valid financial information."
   ]
  },
  {
   "cell_type": "markdown",
   "id": "5c20d3b0",
   "metadata": {},
   "source": [
    "## How many movies are there in each of the certification categories (G/PG/PG-13/R)?"
   ]
  },
  {
   "cell_type": "code",
   "execution_count": 10,
   "id": "e0b8eb3f",
   "metadata": {},
   "outputs": [
    {
     "data": {
      "text/plain": [
       "R        232\n",
       "PG-13    131\n",
       "PG        35\n",
       "NR        17\n",
       "G         15\n",
       "Name: certification, dtype: int64"
      ]
     },
     "execution_count": 10,
     "metadata": {},
     "output_type": "execute_result"
    }
   ],
   "source": [
    "combined['certification'].value_counts()"
   ]
  },
  {
   "cell_type": "markdown",
   "id": "906e28b6",
   "metadata": {},
   "source": [
    "## What is the average revenue per certification category?"
   ]
  },
  {
   "cell_type": "code",
   "execution_count": 11,
   "id": "34cd9623",
   "metadata": {},
   "outputs": [
    {
     "data": {
      "text/plain": [
       "certification\n",
       "G        1.173648e+08\n",
       "NR       9.588674e+06\n",
       "PG       1.106405e+08\n",
       "PG-13    9.928786e+07\n",
       "R        3.242712e+07\n",
       "Name: revenue, dtype: float64"
      ]
     },
     "execution_count": 11,
     "metadata": {},
     "output_type": "execute_result"
    }
   ],
   "source": [
    "Revenue_avg = combined.groupby(['certification'])['revenue'].mean()\n",
    "Revenue_avg"
   ]
  },
  {
   "cell_type": "markdown",
   "id": "8e0d252b",
   "metadata": {},
   "source": [
    "## What is the average budget per certification category?"
   ]
  },
  {
   "cell_type": "code",
   "execution_count": 12,
   "id": "4e243c40",
   "metadata": {},
   "outputs": [
    {
     "data": {
      "text/plain": [
       "certification\n",
       "G        3.813333e+07\n",
       "NR       6.302358e+06\n",
       "PG       4.482849e+07\n",
       "PG-13    4.299357e+07\n",
       "R        1.948407e+07\n",
       "Name: budget, dtype: float64"
      ]
     },
     "execution_count": 12,
     "metadata": {},
     "output_type": "execute_result"
    }
   ],
   "source": [
    "Budget_avg = combined.groupby(['certification'])['budget'].mean()\n",
    "Budget_avg"
   ]
  },
  {
   "cell_type": "code",
   "execution_count": 13,
   "id": "c7b65aed",
   "metadata": {},
   "outputs": [],
   "source": [
    "# Saving combined data\n",
    "\n",
    "combined.to_csv(\"data/tmdb_results_combined.csv.gz\", compression='gzip', index=False)"
   ]
  }
 ],
 "metadata": {
  "kernelspec": {
   "display_name": "Python (dojo-env)",
   "language": "python",
   "name": "dojo-env"
  },
  "language_info": {
   "codemirror_mode": {
    "name": "ipython",
    "version": 3
   },
   "file_extension": ".py",
   "mimetype": "text/x-python",
   "name": "python",
   "nbconvert_exporter": "python",
   "pygments_lexer": "ipython3",
   "version": "3.9.15"
  },
  "toc": {
   "base_numbering": 1,
   "nav_menu": {},
   "number_sections": true,
   "sideBar": true,
   "skip_h1_title": false,
   "title_cell": "Table of Contents",
   "title_sidebar": "Contents",
   "toc_cell": false,
   "toc_position": {},
   "toc_section_display": true,
   "toc_window_display": false
  }
 },
 "nbformat": 4,
 "nbformat_minor": 5
}
